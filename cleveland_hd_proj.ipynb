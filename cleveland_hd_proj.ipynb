{
 "cells": [
  {
   "cell_type": "markdown",
   "metadata": {},
   "source": [
    "**Project title**: What your heart rate is telling you?\n",
    "\n",
    "**Name:** Amy Yang\n",
    "\n",
    "**E-mail:** yangy.ustc@gmail.com\n",
    "\n",
    "**GitHub username**: amysheep\n",
    "\n",
    "**Link to prior writing**: https://goo.gl/FqLnYf\n",
    "\n",
    "**Project description**: Heart disease is the main reason for death in the world over the last decade. Almost one person dies of Heart disease about every minute in the United States alone. Researchers have been using several data\n",
    "mining techniques to help health care professionals in the diagnosis of heart disease. In this project, we will exam the relationship between the maximum heart rate one can achieve during erexcise and the likelihood of developing heart disease using multiple logistic regression to account for potential confounding effects from age and gender. <img src=\"datadict.png\" height=\"400\" width=\"400\">\n",
    "\n",
    "**Dataset(s) used**: The existing datasets of heart disease patients from Cleveland database of UCI repository is used, which is available at http://archive.ics.uci.edu/ml/datasets/Heart+Disease. The dataset has 13 attributes and 303 records. The data dictionary is included here.\n",
    "\n",
    "**Assumed student knowledge**: tidyverse, logistic regression, basic probability and statistic 101 knowledge"
   ]
  },
  {
   "cell_type": "markdown",
   "metadata": {},
   "source": [
    "# Maximum heart rate during exercise and heart disease"
   ]
  },
  {
   "cell_type": "markdown",
   "metadata": {},
   "source": [
    "Millions of people are getting some sort of heart disease every year and heart disease is the biggest killer of both\n",
    "men and women in the United States and around the world. Statistical analysis has identified many risk factors associated with heart disease such as age, blood pressure, total cholesterol, diabetes, hypertension, family history of heart disease, obesity, lack of physical exercise etc. In this notebook, we're going to run statistical testings and regression models using the Cleveland heart disease dataset to assess one perticular factor -- maximum heart rate one can achieve during exercise and how it is associated with higher likelihood of getting heart disease. <img src=\"run31.png\" height=\"300\" width=\"300\">"
   ]
  },
  {
   "cell_type": "markdown",
   "metadata": {},
   "source": [
    "## 1. Heart disease and potential risk factors"
   ]
  },
  {
   "cell_type": "markdown",
   "metadata": {},
   "source": [
    "Let's start by loading the data 'Cleveland_hd.csv' into our Notebook. Let's also load tidyverse library for data cleaning."
   ]
  },
  {
   "cell_type": "code",
   "execution_count": 3,
   "metadata": {},
   "outputs": [
    {
     "data": {
      "text/html": [
       "<table>\n",
       "<thead><tr><th scope=col>age</th><th scope=col>sex</th><th scope=col>cp</th><th scope=col>trestbps</th><th scope=col>chol</th><th scope=col>fbs</th><th scope=col>restecg</th><th scope=col>thalach</th><th scope=col>exang</th><th scope=col>oldpeak</th><th scope=col>slope</th><th scope=col>ca</th><th scope=col>thal</th><th scope=col>class</th></tr></thead>\n",
       "<tbody>\n",
       "\t<tr><td>63 </td><td>1  </td><td>1  </td><td>145</td><td>233</td><td>1  </td><td>2  </td><td>150</td><td>0  </td><td>2.3</td><td>3  </td><td>0  </td><td>6  </td><td>0  </td></tr>\n",
       "\t<tr><td>67 </td><td>1  </td><td>4  </td><td>160</td><td>286</td><td>0  </td><td>2  </td><td>108</td><td>1  </td><td>1.5</td><td>2  </td><td>3  </td><td>3  </td><td>2  </td></tr>\n",
       "\t<tr><td>67 </td><td>1  </td><td>4  </td><td>120</td><td>229</td><td>0  </td><td>2  </td><td>129</td><td>1  </td><td>2.6</td><td>2  </td><td>2  </td><td>7  </td><td>1  </td></tr>\n",
       "\t<tr><td>37 </td><td>1  </td><td>3  </td><td>130</td><td>250</td><td>0  </td><td>0  </td><td>187</td><td>0  </td><td>3.5</td><td>3  </td><td>0  </td><td>3  </td><td>0  </td></tr>\n",
       "\t<tr><td>41 </td><td>0  </td><td>2  </td><td>130</td><td>204</td><td>0  </td><td>2  </td><td>172</td><td>0  </td><td>1.4</td><td>1  </td><td>0  </td><td>3  </td><td>0  </td></tr>\n",
       "</tbody>\n",
       "</table>\n"
      ],
      "text/latex": [
       "\\begin{tabular}{r|llllllllllllll}\n",
       " age & sex & cp & trestbps & chol & fbs & restecg & thalach & exang & oldpeak & slope & ca & thal & class\\\\\n",
       "\\hline\n",
       "\t 63  & 1   & 1   & 145 & 233 & 1   & 2   & 150 & 0   & 2.3 & 3   & 0   & 6   & 0  \\\\\n",
       "\t 67  & 1   & 4   & 160 & 286 & 0   & 2   & 108 & 1   & 1.5 & 2   & 3   & 3   & 2  \\\\\n",
       "\t 67  & 1   & 4   & 120 & 229 & 0   & 2   & 129 & 1   & 2.6 & 2   & 2   & 7   & 1  \\\\\n",
       "\t 37  & 1   & 3   & 130 & 250 & 0   & 0   & 187 & 0   & 3.5 & 3   & 0   & 3   & 0  \\\\\n",
       "\t 41  & 0   & 2   & 130 & 204 & 0   & 2   & 172 & 0   & 1.4 & 1   & 0   & 3   & 0  \\\\\n",
       "\\end{tabular}\n"
      ],
      "text/markdown": [
       "\n",
       "age | sex | cp | trestbps | chol | fbs | restecg | thalach | exang | oldpeak | slope | ca | thal | class | \n",
       "|---|---|---|---|---|\n",
       "| 63  | 1   | 1   | 145 | 233 | 1   | 2   | 150 | 0   | 2.3 | 3   | 0   | 6   | 0   | \n",
       "| 67  | 1   | 4   | 160 | 286 | 0   | 2   | 108 | 1   | 1.5 | 2   | 3   | 3   | 2   | \n",
       "| 67  | 1   | 4   | 120 | 229 | 0   | 2   | 129 | 1   | 2.6 | 2   | 2   | 7   | 1   | \n",
       "| 37  | 1   | 3   | 130 | 250 | 0   | 0   | 187 | 0   | 3.5 | 3   | 0   | 3   | 0   | \n",
       "| 41  | 0   | 2   | 130 | 204 | 0   | 2   | 172 | 0   | 1.4 | 1   | 0   | 3   | 0   | \n",
       "\n",
       "\n"
      ],
      "text/plain": [
       "  age sex cp trestbps chol fbs restecg thalach exang oldpeak slope ca thal\n",
       "1 63  1   1  145      233  1   2       150     0     2.3     3     0  6   \n",
       "2 67  1   4  160      286  0   2       108     1     1.5     2     3  3   \n",
       "3 67  1   4  120      229  0   2       129     1     2.6     2     2  7   \n",
       "4 37  1   3  130      250  0   0       187     0     3.5     3     0  3   \n",
       "5 41  0   2  130      204  0   2       172     0     1.4     1     0  3   \n",
       "  class\n",
       "1 0    \n",
       "2 2    \n",
       "3 1    \n",
       "4 0    \n",
       "5 0    "
      ]
     },
     "metadata": {},
     "output_type": "display_data"
    }
   ],
   "source": [
    "# Load in the tidyverse package\n",
    "library(tidyverse)\n",
    "\n",
    "# Read datasets Cleveland_hd.csv into hd_data\n",
    "hd_data <- read.csv(\"Cleveland_hd.csv\")\n",
    "\n",
    "# take a look at the first 5 rows of hd_data\n",
    "head(hd_data,5)\n"
   ]
  },
  {
   "cell_type": "markdown",
   "metadata": {},
   "source": [
    "## 2. Converting diagnosis class into outcome variable"
   ]
  },
  {
   "cell_type": "markdown",
   "metadata": {},
   "source": [
    "We noticed that the outcome variable 'class' has more than two levels. According to the codebook, any none zero values can be coded as an 'event'. Let's create a new variable called 'hd' to represent a binary 1/0 outcome.\n",
    "\n",
    "There are a few other categorical/discrete variables in the dataset. Let's also convert sex, cp and fbs into 'factor' type for next step analysis, otherwise R will treat them as continuous by default."
   ]
  },
  {
   "cell_type": "code",
   "execution_count": 8,
   "metadata": {},
   "outputs": [
    {
     "data": {
      "text/plain": [
       "   \n",
       "      0   1\n",
       "  0 164   0\n",
       "  1   0  55\n",
       "  2   0  36\n",
       "  3   0  35\n",
       "  4   0  13"
      ]
     },
     "metadata": {},
     "output_type": "display_data"
    }
   ],
   "source": [
    "# Use the 'mutate' function from dplyr to recode our data\n",
    "\n",
    "hd_data%>%mutate(hd=ifelse(class>0,1,0))->hd_data\n",
    "\n",
    "# check the newly created variable by looking at the crosstab with 'class'\n",
    "\n",
    "table(hd_data$class,hd_data$hd)\n",
    "\n",
    "# recode sex, cp and fbs using mutate function and save as hd_data_cleaned\n",
    "\n",
    "hd_data%>%mutate(sex=factor(sex),cp=factor(cp),fbs=factor(fbs))->hd_data_cleaned\n"
   ]
  },
  {
   "cell_type": "markdown",
   "metadata": {},
   "source": [
    "## 3. Which clinical variables are associated with heart disease?"
   ]
  },
  {
   "cell_type": "markdown",
   "metadata": {},
   "source": [
    "Now, let's use statistical tests to see which ones are related to heart disease. We can explore the associations for each variable in the dataset. Depending on the type of the data (i.e. continuous or categorical), we use t-test or chi-squred test to calculate the p-values."
   ]
  },
  {
   "cell_type": "code",
   "execution_count": 12,
   "metadata": {
    "scrolled": true
   },
   "outputs": [
    {
     "data": {
      "text/plain": [
       "\n",
       "\tPearson's Chi-squared test with Yates' continuity correction\n",
       "\n",
       "data:  hd_data_cleaned$sex and hd_data_cleaned$hd\n",
       "X-squared = 22.043, df = 1, p-value = 2.667e-06\n"
      ]
     },
     "metadata": {},
     "output_type": "display_data"
    },
    {
     "data": {
      "text/plain": [
       "\n",
       "\tWelch Two Sample t-test\n",
       "\n",
       "data:  hd_data_cleaned$age by hd_data_cleaned$hd\n",
       "t = -4.0303, df = 300.93, p-value = 7.061e-05\n",
       "alternative hypothesis: true difference in means is not equal to 0\n",
       "95 percent confidence interval:\n",
       " -6.013385 -2.067682\n",
       "sample estimates:\n",
       "mean in group 0 mean in group 1 \n",
       "       52.58537        56.62590 \n"
      ]
     },
     "metadata": {},
     "output_type": "display_data"
    },
    {
     "data": {
      "text/plain": [
       "\n",
       "\tWelch Two Sample t-test\n",
       "\n",
       "data:  hd_data_cleaned$thalach by hd_data_cleaned$hd\n",
       "t = 7.8579, df = 272.27, p-value = 9.106e-14\n",
       "alternative hypothesis: true difference in means is not equal to 0\n",
       "95 percent confidence interval:\n",
       " 14.32900 23.90912\n",
       "sample estimates:\n",
       "mean in group 0 mean in group 1 \n",
       "        158.378         139.259 \n"
      ]
     },
     "metadata": {},
     "output_type": "display_data"
    }
   ],
   "source": [
    "# Does sex have an effect? Sex is a binary variable, so the appropriate test is Chi-squared test\n",
    "chisq.test(hd_data_cleaned$sex, hd_data_cleaned$hd)\n",
    "\n",
    "# Does age have an effect? Age is continuous, so we use t-test here\n",
    "t.test(hd_data_cleaned$age ~ hd_data_cleaned$hd)\n",
    "\n",
    "# What about thalach: maximum heart rate one can achieve during exercise?\n",
    "t.test(hd_data_cleaned$thalach ~hd_data_cleaned$hd)"
   ]
  },
  {
   "cell_type": "markdown",
   "metadata": {},
   "source": [
    "*To be continued...*\n",
    "\n",
    "---"
   ]
  }
 ],
 "metadata": {
  "kernelspec": {
   "display_name": "R",
   "language": "R",
   "name": "ir"
  },
  "language_info": {
   "codemirror_mode": "r",
   "file_extension": ".r",
   "mimetype": "text/x-r-source",
   "name": "R",
   "pygments_lexer": "r",
   "version": "3.5.1"
  }
 },
 "nbformat": 4,
 "nbformat_minor": 2
}
